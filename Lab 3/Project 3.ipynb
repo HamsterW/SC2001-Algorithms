{
 "cells": [
  {
   "cell_type": "markdown",
   "id": "11c6959a",
   "metadata": {},
   "source": [
    "# **Knapsack Bottom-Up Algo**"
   ]
  },
  {
   "cell_type": "code",
   "execution_count": null,
   "id": "548e344c",
   "metadata": {},
   "outputs": [],
   "source": [
    "def knapsack(C, w, p):\n",
    "    n = len(w)\n",
    "    dp = [0 for _ in range(C + 1)]\n",
    "    \n",
    "    for j in range(1, C + 1):\n",
    "        for i in range(n):\n",
    "            if w[i] <= j:\n",
    "                dp[j] = max(dp[j], p[i] + dp[j - w[i]])\n",
    "    \n",
    "    print(f\"DP Table: {dp}\")\n",
    "    return dp[C]"
   ]
  },
  {
   "cell_type": "code",
   "execution_count": 21,
   "id": "eb9fe68e",
   "metadata": {},
   "outputs": [
    {
     "name": "stdout",
     "output_type": "stream",
     "text": [
      "DP Table: [0, 0, 0, 0, 7, 7, 7, 7, 14, 14, 14, 14, 21, 21, 21]\n",
      "Question 4a: 21\n"
     ]
    }
   ],
   "source": [
    "# Question 4a\n",
    "w1 = [4,6,8]\n",
    "p1 = [7,6,9]\n",
    "print(f\"Question 4a: {knapsack(14, w1, p1)}\")"
   ]
  },
  {
   "cell_type": "code",
   "execution_count": 22,
   "id": "3a92b488",
   "metadata": {},
   "outputs": [
    {
     "name": "stdout",
     "output_type": "stream",
     "text": [
      "DP Table: [0, 0, 0, 0, 0, 7, 7, 7, 9, 9, 14, 14, 14, 16, 16]\n",
      "Question 4b: 16\n"
     ]
    }
   ],
   "source": [
    "# Question 4b\n",
    "w2 = [5,6,8]\n",
    "p2 = [7,6,9]\n",
    "print(f\"Question 4b: {knapsack(14, w2, p2)}\")"
   ]
  }
 ],
 "metadata": {
  "kernelspec": {
   "display_name": "Python 3",
   "language": "python",
   "name": "python3"
  },
  "language_info": {
   "codemirror_mode": {
    "name": "ipython",
    "version": 3
   },
   "file_extension": ".py",
   "mimetype": "text/x-python",
   "name": "python",
   "nbconvert_exporter": "python",
   "pygments_lexer": "ipython3",
   "version": "3.11.4"
  }
 },
 "nbformat": 4,
 "nbformat_minor": 5
}
